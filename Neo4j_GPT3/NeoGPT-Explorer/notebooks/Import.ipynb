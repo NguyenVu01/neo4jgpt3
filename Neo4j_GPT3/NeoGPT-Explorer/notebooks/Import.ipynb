{
 "cells": [
  {
   "cell_type": "code",
   "execution_count": 1,
   "id": "2777ba36",
   "metadata": {},
   "outputs": [],
   "source": [
    "from graphdatascience import GraphDataScience\n",
    "import pandas as pd\n",
    "\n",
    "host = \"bolt://localhost:7687\"\n",
    "user = \"neo4j\"\n",
    "password = \"pleaseletmein\"\n",
    "\n",
    "gds = GraphDataScience(host, auth=(user, password))"
   ]
  },
  {
   "cell_type": "markdown",
   "id": "b532c740",
   "metadata": {},
   "source": [
    "# Import articles"
   ]
  },
  {
   "cell_type": "code",
   "execution_count": 2,
   "id": "35f56a46",
   "metadata": {},
   "outputs": [
    {
     "data": {
      "text/html": [
       "<div>\n",
       "<style scoped>\n",
       "    .dataframe tbody tr th:only-of-type {\n",
       "        vertical-align: middle;\n",
       "    }\n",
       "\n",
       "    .dataframe tbody tr th {\n",
       "        vertical-align: top;\n",
       "    }\n",
       "\n",
       "    .dataframe thead th {\n",
       "        text-align: right;\n",
       "    }\n",
       "</style>\n",
       "<table border=\"1\" class=\"dataframe\">\n",
       "  <thead>\n",
       "    <tr style=\"text-align: right;\">\n",
       "      <th></th>\n",
       "      <th>article_id</th>\n",
       "      <th>sectionName</th>\n",
       "      <th>webTitle</th>\n",
       "      <th>webUrl</th>\n",
       "      <th>bodyContent</th>\n",
       "      <th>webPublicationDate</th>\n",
       "      <th>id</th>\n",
       "    </tr>\n",
       "  </thead>\n",
       "  <tbody>\n",
       "    <tr>\n",
       "      <th>0</th>\n",
       "      <td>environment/2022/jun/30/former-australian-chie...</td>\n",
       "      <td>Environment</td>\n",
       "      <td>Former Australian chief scientist to head revi...</td>\n",
       "      <td>https://www.theguardian.com/environment/2022/j...</td>\n",
       "      <td>The former Australian chief scientist and seni...</td>\n",
       "      <td>2022-06-30 23:53:09+00:00</td>\n",
       "      <td>147919</td>\n",
       "    </tr>\n",
       "    <tr>\n",
       "      <th>1</th>\n",
       "      <td>world/2022/jul/01/we-were-too-lenient-on-pro-d...</td>\n",
       "      <td>World news</td>\n",
       "      <td>We were too lenient on pro-democracy politicia...</td>\n",
       "      <td>https://www.theguardian.com/world/2022/jul/01/...</td>\n",
       "      <td>A senior member of Hong Kong’s incoming admini...</td>\n",
       "      <td>2022-06-30 23:52:37+00:00</td>\n",
       "      <td>147920</td>\n",
       "    </tr>\n",
       "    <tr>\n",
       "      <th>2</th>\n",
       "      <td>australia-news/2022/jul/01/south-australian-li...</td>\n",
       "      <td>Australia news</td>\n",
       "      <td>South Australian Liberal leader and state MPs ...</td>\n",
       "      <td>https://www.theguardian.com/australia-news/202...</td>\n",
       "      <td>A week after Roe v Wade was overturned in the ...</td>\n",
       "      <td>2022-06-30 23:33:09+00:00</td>\n",
       "      <td>147921</td>\n",
       "    </tr>\n",
       "    <tr>\n",
       "      <th>3</th>\n",
       "      <td>australia-news/2022/jul/01/john-barilaros-deci...</td>\n",
       "      <td>Australia news</td>\n",
       "      <td>John Barilaro’s decision may stem some bleedin...</td>\n",
       "      <td>https://www.theguardian.com/australia-news/202...</td>\n",
       "      <td>John Barilaro didn’t want to continue being “a...</td>\n",
       "      <td>2022-06-30 23:23:38+00:00</td>\n",
       "      <td>147922</td>\n",
       "    </tr>\n",
       "    <tr>\n",
       "      <th>4</th>\n",
       "      <td>lifeandstyle/2022/jul/01/breastfeeding-cogniti...</td>\n",
       "      <td>Life and style</td>\n",
       "      <td>Breastfeeding improves cognitive ability for c...</td>\n",
       "      <td>https://www.theguardian.com/lifeandstyle/2022/...</td>\n",
       "      <td>Children of poorer mothers who breastfeed are ...</td>\n",
       "      <td>2022-06-30 23:01:03+00:00</td>\n",
       "      <td>147923</td>\n",
       "    </tr>\n",
       "  </tbody>\n",
       "</table>\n",
       "</div>"
      ],
      "text/plain": [
       "                                          article_id     sectionName  \\\n",
       "0  environment/2022/jun/30/former-australian-chie...     Environment   \n",
       "1  world/2022/jul/01/we-were-too-lenient-on-pro-d...      World news   \n",
       "2  australia-news/2022/jul/01/south-australian-li...  Australia news   \n",
       "3  australia-news/2022/jul/01/john-barilaros-deci...  Australia news   \n",
       "4  lifeandstyle/2022/jul/01/breastfeeding-cogniti...  Life and style   \n",
       "\n",
       "                                            webTitle  \\\n",
       "0  Former Australian chief scientist to head revi...   \n",
       "1  We were too lenient on pro-democracy politicia...   \n",
       "2  South Australian Liberal leader and state MPs ...   \n",
       "3  John Barilaro’s decision may stem some bleedin...   \n",
       "4  Breastfeeding improves cognitive ability for c...   \n",
       "\n",
       "                                              webUrl  \\\n",
       "0  https://www.theguardian.com/environment/2022/j...   \n",
       "1  https://www.theguardian.com/world/2022/jul/01/...   \n",
       "2  https://www.theguardian.com/australia-news/202...   \n",
       "3  https://www.theguardian.com/australia-news/202...   \n",
       "4  https://www.theguardian.com/lifeandstyle/2022/...   \n",
       "\n",
       "                                         bodyContent  \\\n",
       "0  The former Australian chief scientist and seni...   \n",
       "1  A senior member of Hong Kong’s incoming admini...   \n",
       "2  A week after Roe v Wade was overturned in the ...   \n",
       "3  John Barilaro didn’t want to continue being “a...   \n",
       "4  Children of poorer mothers who breastfeed are ...   \n",
       "\n",
       "          webPublicationDate      id  \n",
       "0  2022-06-30 23:53:09+00:00  147919  \n",
       "1  2022-06-30 23:52:37+00:00  147920  \n",
       "2  2022-06-30 23:33:09+00:00  147921  \n",
       "3  2022-06-30 23:23:38+00:00  147922  \n",
       "4  2022-06-30 23:01:03+00:00  147923  "
      ]
     },
     "execution_count": 2,
     "metadata": {},
     "output_type": "execute_result"
    }
   ],
   "source": [
    "articles = pd.read_csv(\"../data/articles.csv\")\n",
    "articles.head()"
   ]
  },
  {
   "cell_type": "code",
   "execution_count": 3,
   "id": "efb355cf",
   "metadata": {},
   "outputs": [
    {
     "data": {
      "text/html": [
       "<div>\n",
       "<style scoped>\n",
       "    .dataframe tbody tr th:only-of-type {\n",
       "        vertical-align: middle;\n",
       "    }\n",
       "\n",
       "    .dataframe tbody tr th {\n",
       "        vertical-align: top;\n",
       "    }\n",
       "\n",
       "    .dataframe thead th {\n",
       "        text-align: right;\n",
       "    }\n",
       "</style>\n",
       "<table border=\"1\" class=\"dataframe\">\n",
       "  <thead>\n",
       "    <tr style=\"text-align: right;\">\n",
       "      <th></th>\n",
       "    </tr>\n",
       "  </thead>\n",
       "  <tbody>\n",
       "  </tbody>\n",
       "</table>\n",
       "</div>"
      ],
      "text/plain": [
       "Empty DataFrame\n",
       "Columns: []\n",
       "Index: []"
      ]
     },
     "execution_count": 3,
     "metadata": {},
     "output_type": "execute_result"
    }
   ],
   "source": [
    "gds.run_cypher(\n",
    "    \"\"\"\n",
    "CREATE CONSTRAINT IF NOT EXISTS FOR (a:Article) REQUIRE a.id IS UNIQUE;\n",
    "\"\"\"\n",
    ")\n",
    "gds.run_cypher(\n",
    "    \"\"\"\n",
    "CREATE CONSTRAINT IF NOT EXISTS FOR (s:Section) REQUIRE s.name IS UNIQUE;\n",
    "\"\"\"\n",
    ")\n",
    "gds.run_cypher(\n",
    "    \"\"\"\n",
    "CREATE TEXT INDEX articletitle IF NOT EXISTS FOR (a:Article) ON a.webTitle;\n",
    "\"\"\"\n",
    ")"
   ]
  },
  {
   "cell_type": "code",
   "execution_count": 4,
   "id": "868cc437",
   "metadata": {},
   "outputs": [
    {
     "data": {
      "text/html": [
       "<div>\n",
       "<style scoped>\n",
       "    .dataframe tbody tr th:only-of-type {\n",
       "        vertical-align: middle;\n",
       "    }\n",
       "\n",
       "    .dataframe tbody tr th {\n",
       "        vertical-align: top;\n",
       "    }\n",
       "\n",
       "    .dataframe thead th {\n",
       "        text-align: right;\n",
       "    }\n",
       "</style>\n",
       "<table border=\"1\" class=\"dataframe\">\n",
       "  <thead>\n",
       "    <tr style=\"text-align: right;\">\n",
       "      <th></th>\n",
       "    </tr>\n",
       "  </thead>\n",
       "  <tbody>\n",
       "  </tbody>\n",
       "</table>\n",
       "</div>"
      ],
      "text/plain": [
       "Empty DataFrame\n",
       "Columns: []\n",
       "Index: []"
      ]
     },
     "execution_count": 4,
     "metadata": {},
     "output_type": "execute_result"
    }
   ],
   "source": [
    "article_import_query = \"\"\"\n",
    "UNWIND $data AS row\n",
    "MERGE (a:Article {id: row.id})\n",
    "SET a += apoc.map.clean(row, [\"id\", \"article_id\", \"sectionName\", \"webPublicationDate\"], [])\n",
    "SET a.date = datetime(replace(row.webPublicationDate, \" \", \"T\"))\n",
    "WITH a, row.sectionName AS section\n",
    "MERGE (s:Section {name: section})\n",
    "MERGE (a)-[:HAS_SECTION]->(s)\n",
    "\"\"\"\n",
    "\n",
    "gds.run_cypher(article_import_query, {\"data\": articles.to_dict(\"records\")})"
   ]
  },
  {
   "cell_type": "markdown",
   "id": "ae32640c",
   "metadata": {},
   "source": [
    "# Import NLP output"
   ]
  },
  {
   "cell_type": "code",
   "execution_count": 5,
   "id": "65cc286a",
   "metadata": {},
   "outputs": [],
   "source": [
    "import json\n",
    "\n",
    "with open(\"../data/nlp_output.json\") as file:\n",
    "    nlp_output = json.load(file)"
   ]
  },
  {
   "cell_type": "code",
   "execution_count": 6,
   "id": "e60395e1",
   "metadata": {},
   "outputs": [
    {
     "data": {
      "text/html": [
       "<div>\n",
       "<style scoped>\n",
       "    .dataframe tbody tr th:only-of-type {\n",
       "        vertical-align: middle;\n",
       "    }\n",
       "\n",
       "    .dataframe tbody tr th {\n",
       "        vertical-align: top;\n",
       "    }\n",
       "\n",
       "    .dataframe thead th {\n",
       "        text-align: right;\n",
       "    }\n",
       "</style>\n",
       "<table border=\"1\" class=\"dataframe\">\n",
       "  <thead>\n",
       "    <tr style=\"text-align: right;\">\n",
       "      <th></th>\n",
       "    </tr>\n",
       "  </thead>\n",
       "  <tbody>\n",
       "  </tbody>\n",
       "</table>\n",
       "</div>"
      ],
      "text/plain": [
       "Empty DataFrame\n",
       "Columns: []\n",
       "Index: []"
      ]
     },
     "execution_count": 6,
     "metadata": {},
     "output_type": "execute_result"
    }
   ],
   "source": [
    "gds.run_cypher(\n",
    "    \"\"\"\n",
    "CREATE CONSTRAINT IF NOT EXISTS FOR (e:Entity) REQUIRE e.id IS UNIQUE;\n",
    "\"\"\"\n",
    ")"
   ]
  },
  {
   "cell_type": "code",
   "execution_count": 7,
   "id": "18fb9135",
   "metadata": {},
   "outputs": [],
   "source": [
    "nlp_import_query = \"\"\"\n",
    "UNWIND $data AS row\n",
    "MATCH (a:Article {id: row.id})\n",
    "SET a.sentiment = row.sentiment\n",
    "FOREACH (entity in row.entity | \n",
    "  MERGE (e:Entity {id: entity.name})\n",
    "  ON CREATE SET e.type = entity.type,\n",
    "                e.uri = entity.uri\n",
    "  MERGE (a)-[m:MENTIONS]-(e)\n",
    "  SET m.confidence = entity.confidence,\n",
    "      m.sentiment = entity.sentiment\n",
    ")\n",
    "WITH a, row\n",
    "UNWIND row.fact AS fact\n",
    "  WITH a, fact\n",
    "  MERGE (source:Entity {id: fact.source.name})\n",
    "  ON CREATE SET source.type = fact.source.type\n",
    "  MERGE (target:Entity {id: fact.target.name})\n",
    "  ON CREATE SET target.type = fact.target.type\n",
    "  MERGE (source)-[:RELATIONSHIP]->(r:Relationship {type: toUpper(replace(fact.relationship,' ','_'))})-[:RELATIONSHIP]->(target)\n",
    "  MERGE (a)-[mr:MENTIONS_RELATIONSHIP]->(r)\n",
    "  SET mr.confidence = fact.confidence\n",
    "\"\"\"\n",
    "\n",
    "batch_step = 100\n",
    "\n",
    "for offset in range(0, len(nlp_output), batch_step):\n",
    "    batch = nlp_output[offset : offset + batch_step]\n",
    "    gds.run_cypher(nlp_import_query, {\"data\": batch})"
   ]
  },
  {
   "cell_type": "code",
   "execution_count": null,
   "id": "27dd5241",
   "metadata": {},
   "outputs": [],
   "source": []
  }
 ],
 "metadata": {
  "kernelspec": {
   "display_name": "Python 3",
   "language": "python",
   "name": "python3"
  },
  "language_info": {
   "codemirror_mode": {
    "name": "ipython",
    "version": 3
   },
   "file_extension": ".py",
   "mimetype": "text/x-python",
   "name": "python",
   "nbconvert_exporter": "python",
   "pygments_lexer": "ipython3",
   "version": "3.8.8"
  }
 },
 "nbformat": 4,
 "nbformat_minor": 5
}
